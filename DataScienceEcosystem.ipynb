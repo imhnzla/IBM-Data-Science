{
 "cells": [
  {
   "cell_type": "markdown",
   "id": "0cb14073-9f1a-488f-b0a9-18a6919dd32f",
   "metadata": {},
   "source": [
    "# Data Science Tools and Ecosystem"
   ]
  },
  {
   "cell_type": "markdown",
   "id": "afc71509-f7d8-4217-8bd9-084719ba9e2d",
   "metadata": {},
   "source": [
    "### In this notebook, Data Science Tools and Ecosystem are summarized."
   ]
  },
  {
   "cell_type": "markdown",
   "id": "daf41f30-440c-41df-986f-ddaaecee4cdf",
   "metadata": {},
   "source": [
    "#### Objectives:\r\n",
    "\r\n",
    "- List popular languages for Data Science.\r\n",
    "- Highlight commonly used libraries in Data Scien\n",
    "- Identify tools \n",
    "- Examples of arithmetic expressions in Pythonnce.\r\n"
   ]
  },
  {
   "cell_type": "markdown",
   "id": "f018b845-ce5d-4e1f-a57f-eacc78e5c48b",
   "metadata": {},
   "source": [
    "##### Some of the popular languages that Data Scientists use are:\n",
    "\n",
    "1. Python\n",
    "2. R\n",
    "3. SQL\n",
    "\n"
   ]
  },
  {
   "cell_type": "markdown",
   "id": "028a53d0-9ab1-44bd-b582-7148d886c66b",
   "metadata": {},
   "source": [
    "##### Some of the commonly used libraries used by Data Scientists include:\n",
    "1. Pandas\n",
    "2. numpy\n",
    "3. ggplot\n",
    "4. matplotlib\n",
    "  "
   ]
  },
  {
   "cell_type": "markdown",
   "id": "c3e8da48-8a96-4df8-a235-162eb9477cc8",
   "metadata": {},
   "source": [
    "\r\n",
    "| Data Science Tools |\r\n",
    "| ------------------ |\r\n",
    "| Jupyter Notebook   |\r\n",
    "| RStudio       |\n",
    "  Apache Sparke       \n",
    "     |"
   ]
  },
  {
   "cell_type": "markdown",
   "id": "35cffa15-6d40-4479-b704-2a950d9fefe6",
   "metadata": {},
   "source": [
    "### Below are a few examples of evaluating arithmetic expressions in Python"
   ]
  },
  {
   "cell_type": "code",
   "execution_count": 17,
   "id": "3e296bad-872b-4aeb-b028-671995ee6320",
   "metadata": {},
   "outputs": [
    {
     "data": {
      "text/plain": [
       "17"
      ]
     },
     "execution_count": 17,
     "metadata": {},
     "output_type": "execute_result"
    }
   ],
   "source": [
    "#This a simple arithmetic expression to mutiply then add integers\n",
    "(3*4)+5"
   ]
  },
  {
   "cell_type": "code",
   "execution_count": 18,
   "id": "bbbb012b-1869-4f99-b833-4020a30fa4d1",
   "metadata": {},
   "outputs": [
    {
     "name": "stdout",
     "output_type": "stream",
     "text": [
      "3.3333333333333335\n"
     ]
    }
   ],
   "source": [
    "#This will convert 200 minutes to hours by diving by 60\n",
    "min = 200\n",
    "hours = min/60\n",
    "print(hours)"
   ]
  },
  {
   "cell_type": "markdown",
   "id": "ffd677d7-3ac8-4faa-b770-05c476170e58",
   "metadata": {},
   "source": []
  }
 ],
 "metadata": {
  "kernelspec": {
   "display_name": "Python 3 (ipykernel)",
   "language": "python",
   "name": "python3"
  },
  "language_info": {
   "codemirror_mode": {
    "name": "ipython",
    "version": 3
   },
   "file_extension": ".py",
   "mimetype": "text/x-python",
   "name": "python",
   "nbconvert_exporter": "python",
   "pygments_lexer": "ipython3",
   "version": "3.12.0"
  }
 },
 "nbformat": 4,
 "nbformat_minor": 5
}
